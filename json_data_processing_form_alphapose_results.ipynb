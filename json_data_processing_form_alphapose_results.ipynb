{
  "nbformat": 4,
  "nbformat_minor": 0,
  "metadata": {
    "colab": {
      "name": "json_data_processing_form alphapose_results.ipynb",
      "provenance": [],
      "collapsed_sections": []
    },
    "kernelspec": {
      "name": "python3",
      "display_name": "Python 3"
    }
  },
  "cells": [
    {
      "cell_type": "code",
      "metadata": {
        "id": "o2QHRcojVuYj",
        "colab": {
          "base_uri": "https://localhost:8080/",
          "height": 445
        },
        "outputId": "4614c26a-ec5e-402d-f8cc-46b0ba9b2034"
      },
      "source": [
        "import pandas as pd\n",
        "import numpy as np\n",
        "\n",
        "# Reading Raw JSON file \n",
        "raw_data=pd.read_json(\"/content/drive/My Drive/AlphaPose/examples/res/alphapose-results.json\")\n",
        "\n",
        "#taking only keypoint column from raw data\n",
        "keypoint=raw_data['keypoints'] \n",
        "\n",
        "# getting length of raw_data\n",
        "raw_data_length=raw_data.index\n",
        "raw_data_length=list(raw_data_length)\n",
        "raw_data_length=raw_data_length[-1]\n",
        "raw_data_length=raw_data_length+1\n",
        "\n",
        "\n",
        "# creating dummy data\n",
        "df=np.zeros((raw_data_length,34))\n",
        "\n",
        "# defining coloumn names \n",
        "columns=[\"Nose_X\",\"Nose_Y\",\"LEye_X\",\"LEye_Y\",\"REye_X\",\"REye_Y\",\"LEar_X\",\"LEar_Y\",\"REar_X\",\"REar_Y\",\n",
        "         \"LShoulder_X\",\"LShoulder_Y\",\"RShoulder_X\",\"RShoulder_Y\",\"LElbow_X\",\"LElbow_Y\",\"RElbow_X\",\"RElbow_Y\",\n",
        "         \"LWrist_X\",\"LWrist_Y\",\"RWrist_X\",\"RWrist_Y\",\"LHip_X\",\"LHip_Y\",\"RHip_X\",\"RHip_Y\",\"LKnee_X\",\"LKnee_Y\",\n",
        "         \"Rknee_X\",\"Rknee_Y\",\"LAnkle_X\",\"LAnkle_Y\",\"RAnkle_X\",\"RAnkle_Y\"]\n",
        "\n",
        "# creating dataframe for 17 keypoints\n",
        "data=pd.DataFrame(df,columns=columns)\n",
        "\n",
        "# sorting only x,y co-ordinate values of 17 keypoints (not score for each keypoint)& appending in column\n",
        "for i in range(0,raw_data_length):\n",
        "    data.loc[[i],[\"Nose_X\"]]=keypoint[i][0]\n",
        "    data.loc[[i],[\"Nose_Y\"]]=keypoint[i][1]\n",
        "    data.loc[[i],[\"LEye_X\"]]=keypoint[i][3]\n",
        "    data.loc[[i],[\"LEye_Y\"]]=keypoint[i][4]\n",
        "    data.loc[[i],[\"REye_X\"]]=keypoint[i][6]\n",
        "    data.loc[[i],[\"REye_Y\"]]=keypoint[i][7]\n",
        "    data.loc[[i],[\"LEar_X\"]]=keypoint[i][9]\n",
        "    data.loc[[i],[\"LEar_Y\"]]=keypoint[i][10]\n",
        "    data.loc[[i],[\"REar_X\"]]=keypoint[i][12]\n",
        "    data.loc[[i],[\"REar_Y\"]]=keypoint[i][13]\n",
        "    data.loc[[i],[\"LShoulder_X\"]]=keypoint[i][15]\n",
        "    data.loc[[i],[\"LShoulder_Y\"]]=keypoint[i][16]\n",
        "    data.loc[[i],[\"RShoulder_X\"]]=keypoint[i][18]\n",
        "    data.loc[[i],[\"RShoulder_Y\"]]=keypoint[i][19]\n",
        "    data.loc[[i],[\"LElbow_X\"]]=keypoint[i][21]\n",
        "    data.loc[[i],[\"LElbow_Y\"]]=keypoint[i][22]\n",
        "    data.loc[[i],[\"RElbow_X\"]]=keypoint[i][24]\n",
        "    data.loc[[i],[\"RElbow_Y\"]]=keypoint[i][25]\n",
        "    data.loc[[i],[\"LWrist_X\"]]=keypoint[i][27]\n",
        "    data.loc[[i],[\"LWrist_Y\"]]=keypoint[i][28]\n",
        "    data.loc[[i],[\"RWrist_X\"]]=keypoint[i][30]\n",
        "    data.loc[[i],[\"RWrist_Y\"]]=keypoint[i][31]\n",
        "    data.loc[[i],[\"LHip_X\"]]=keypoint[i][33]\n",
        "    data.loc[[i],[\"LHip_Y\"]]=keypoint[i][34]\n",
        "    data.loc[[i],[\"RHip_X\"]]=keypoint[i][36]\n",
        "    data.loc[[i],[\"RHip_Y\"]]=keypoint[i][37]\n",
        "    data.loc[[i],[\"LKnee_X\"]]=keypoint[i][39]\n",
        "    data.loc[[i],[\"LKnee_Y\"]]=keypoint[i][40]\n",
        "    data.loc[[i],[\"Rknee_X\"]]=keypoint[i][42]\n",
        "    data.loc[[i],[\"Rknee_Y\"]]=keypoint[i][43]\n",
        "    data.loc[[i],[\"LAnkle_X\"]]=keypoint[i][45]\n",
        "    data.loc[[i],[\"LAnkle_Y\"]]=keypoint[i][46]\n",
        "    data.loc[[i],[\"RAnkle_X\"]]=keypoint[i][48]\n",
        "    data.loc[[i],[\"RAnkle_Y\"]]=keypoint[i][49]  \n",
        "    \n",
        "# adding detected score of each Skeleton    \n",
        "data[\"Score\"]=raw_data[\"score\"]  \n",
        "\n",
        "# adding associated output action by referencing image name score of each Skeleton    \n",
        "data[\"Actions\"]=raw_data[\"image_id\"] \n",
        "for i in range(0,raw_data_length):\n",
        "    a = data[\"Actions\"][i]\n",
        "    a = a.split(\"_\")[0]\n",
        "    data.loc[[i],[\"Actions\"]] = a\n",
        "    \n",
        "# now give numerical categorical value for this activity classes\n",
        "for i in range(0,raw_data_length):\n",
        "    if data['Actions'][i] == \"applauding\":\n",
        "        data['Actions'][i] = 0\n",
        "        \n",
        "    if data['Actions'][i] == \"drinking\":\n",
        "        data['Actions'][i] = 1\n",
        "        \n",
        "    if data['Actions'][i] == \"jumping\":\n",
        "        data['Actions'][i] = 2\n",
        "        \n",
        "    if data['Actions'][i] == \"reading\":\n",
        "        data['Actions'][i] = 3\n",
        "        \n",
        "    if data['Actions'][i] == \"running\":\n",
        "        data['Actions'][i] = 4\n",
        "        \n",
        "    if data['Actions'][i] == \"phoning\":\n",
        "        data['Actions'][i] = 5    \n",
        "        "
      ],
      "execution_count": null,
      "outputs": [
        {
          "output_type": "stream",
          "text": [
            "/usr/local/lib/python3.6/dist-packages/ipykernel_launcher.py:79: SettingWithCopyWarning: \n",
            "A value is trying to be set on a copy of a slice from a DataFrame\n",
            "\n",
            "See the caveats in the documentation: https://pandas.pydata.org/pandas-docs/stable/user_guide/indexing.html#returning-a-view-versus-a-copy\n",
            "/usr/local/lib/python3.6/dist-packages/ipykernel_launcher.py:82: SettingWithCopyWarning: \n",
            "A value is trying to be set on a copy of a slice from a DataFrame\n",
            "\n",
            "See the caveats in the documentation: https://pandas.pydata.org/pandas-docs/stable/user_guide/indexing.html#returning-a-view-versus-a-copy\n",
            "/usr/local/lib/python3.6/dist-packages/ipykernel_launcher.py:85: SettingWithCopyWarning: \n",
            "A value is trying to be set on a copy of a slice from a DataFrame\n",
            "\n",
            "See the caveats in the documentation: https://pandas.pydata.org/pandas-docs/stable/user_guide/indexing.html#returning-a-view-versus-a-copy\n",
            "/usr/local/lib/python3.6/dist-packages/ipykernel_launcher.py:94: SettingWithCopyWarning: \n",
            "A value is trying to be set on a copy of a slice from a DataFrame\n",
            "\n",
            "See the caveats in the documentation: https://pandas.pydata.org/pandas-docs/stable/user_guide/indexing.html#returning-a-view-versus-a-copy\n",
            "/usr/local/lib/python3.6/dist-packages/ipykernel_launcher.py:88: SettingWithCopyWarning: \n",
            "A value is trying to be set on a copy of a slice from a DataFrame\n",
            "\n",
            "See the caveats in the documentation: https://pandas.pydata.org/pandas-docs/stable/user_guide/indexing.html#returning-a-view-versus-a-copy\n",
            "/usr/local/lib/python3.6/dist-packages/ipykernel_launcher.py:91: SettingWithCopyWarning: \n",
            "A value is trying to be set on a copy of a slice from a DataFrame\n",
            "\n",
            "See the caveats in the documentation: https://pandas.pydata.org/pandas-docs/stable/user_guide/indexing.html#returning-a-view-versus-a-copy\n"
          ],
          "name": "stderr"
        }
      ]
    },
    {
      "cell_type": "code",
      "metadata": {
        "id": "zJxK73NtW3U2"
      },
      "source": [
        "data.to_csv(\"human_activity_data_alphapose_result.csv\")"
      ],
      "execution_count": null,
      "outputs": []
    },
    {
      "cell_type": "code",
      "metadata": {
        "id": "EgJ9PkvNXGAm",
        "colab": {
          "base_uri": "https://localhost:8080/",
          "height": 34
        },
        "outputId": "4f2234b8-836e-4b95-fc7f-4a1b0d1caffc"
      },
      "source": [
        "!pwd"
      ],
      "execution_count": null,
      "outputs": [
        {
          "output_type": "stream",
          "text": [
            "/content\n"
          ],
          "name": "stdout"
        }
      ]
    },
    {
      "cell_type": "code",
      "metadata": {
        "id": "BFJVlNO0XH2B"
      },
      "source": [
        ""
      ],
      "execution_count": null,
      "outputs": []
    }
  ]
}